{
 "cells": [
  {
   "cell_type": "code",
   "execution_count": 3,
   "metadata": {},
   "outputs": [
    {
     "name": "stdout",
     "output_type": "stream",
     "text": [
      "[255 255 255]\n"
     ]
    },
    {
     "name": "stderr",
     "output_type": "stream",
     "text": [
      "/home/emsi-iggy/anaconda3/lib/python3.6/site-packages/skimage/transform/_warps.py:110: UserWarning: Anti-aliasing will be enabled by default in skimage 0.15 to avoid aliasing artifacts when down-sampling images.\n",
      "  warn(\"Anti-aliasing will be enabled by default in skimage 0.15 to \"\n"
     ]
    },
    {
     "data": {
      "text/plain": [
       "<Figure size 640x480 with 1 Axes>"
      ]
     },
     "metadata": {},
     "output_type": "display_data"
    },
    {
     "data": {
      "text/plain": [
       "<Figure size 800x450 with 2 Axes>"
      ]
     },
     "metadata": {},
     "output_type": "display_data"
    }
   ],
   "source": [
    "import matplotlib\n",
    "from matplotlib import pyplot as plt\n",
    "import numpy as np\n",
    "import skimage as ski\n",
    "from skimage import io\n",
    "\n",
    "def narysuj(X,Y):\n",
    "    plt.plot(X,Y)\n",
    "    plt.yticks(range(max(Y)+1))\n",
    "    plt.grid(True, linestyle='--')\n",
    "    plt.xlim(0,max(X))\n",
    "    plt.ylim(0,max(Y))\n",
    "    plt.show()\n",
    "    \n",
    "def bresenham(x0,y0,x1,y1):\n",
    "    pikselX = []\n",
    "    pikselY = []\n",
    "    deltax = x1 - x0\n",
    "    deltay = y1 - y0\n",
    "    if(deltax==0): return \"jest to prosta pionowa x=\"+x1\n",
    "    deltaeps = abs(deltay/deltax) #wsp. kierunkowy funkcji 'a'\n",
    "    eps = 0.0\n",
    "    y = y0\n",
    "    #fig = plt.figure()\n",
    "    #ax = fig.add_axes([x0,])\n",
    "    for x in range(x0,x1+1):\n",
    "        #print('x=',x)\n",
    "        #plt.figure(1)\n",
    "        #plt.plot(x,y)\n",
    "        #fig = plt.subplot(211)\n",
    "        \n",
    "        pikselX.append(x)\n",
    "        pikselY.append(y)\n",
    "        eps = eps + deltaeps\n",
    "        if(eps >= 0.5):\n",
    "            y = y + np.sign(deltay) * 1\n",
    "            eps = eps - 1.0\n",
    "    return pikselX,pikselY\n",
    "        \n",
    "        \n",
    "#a,b=bresenham(0,1,6,4)\n",
    "#print(a,',',b)\n",
    "#narysuj(a,b)\n",
    "\n",
    "def wczytajObraz(nazwaPliku):\n",
    "    image = io.imread(nazwaPliku)\n",
    "    #image = rgb2gray(image)\n",
    "    io.imshow(image)\n",
    "    return image\n",
    "\n",
    "from skimage.transform import radon, rescale\n",
    "obraz = wczytajObraz(\"tomograf-zdjecia/Kolo.jpg\")\n",
    "print(obraz[200,200])\n",
    "io.imshow(obraz)\n",
    "\n",
    "image = io.imread(\"tomograf-zdjecia/Kolo.jpg\", as_gray=True)\n",
    "image = rescale(image, scale=0.4, mode='reflect', multichannel=False)\n",
    "fig, (ax1, ax2) = plt.subplots(1, 2, figsize=(8, 4.5))\n",
    "\n",
    "ax1.set_title(\"Original\")\n",
    "ax1.imshow(obraz, cmap=plt.cm.Greys_r)\n",
    "\n",
    "theta = np.linspace(0., 180., max(image.shape), endpoint=False)\n",
    "sinogram = radon(image, theta=theta, circle=True)\n",
    "ax2.set_title(\"Radon transform\\n(Sinogram)\")\n",
    "ax2.set_xlabel(\"Projection angle (deg)\")\n",
    "ax2.set_ylabel(\"Projection position (pixels)\")\n",
    "ax2.imshow(sinogram, cmap=plt.cm.Greys_r,\n",
    "           extent=(0, 180, 0, sinogram.shape[0]), aspect='auto')\n",
    "\n",
    "fig.tight_layout()\n",
    "plt.show()"
   ]
  },
  {
   "cell_type": "code",
   "execution_count": 116,
   "metadata": {
    "scrolled": false
   },
   "outputs": [
    {
     "name": "stdout",
     "output_type": "stream",
     "text": [
      "Obraz.shape =  (400, 400, 3)\n",
      "nowy obraz.shape= (400, 400, 3)\n",
      "r= 282.84271247461896\n",
      "emiter= [  43.62889849 -279.45754457]\n",
      "[[ 269  -86]\n",
      " [ -43  279]\n",
      " [-230 -164]]\n"
     ]
    },
    {
     "data": {
      "text/plain": [
       "<matplotlib.image.AxesImage at 0x7f5047d4e0f0>"
      ]
     },
     "execution_count": 116,
     "metadata": {},
     "output_type": "execute_result"
    },
    {
     "data": {
      "image/png": "[encoded data removed]",
      "text/plain": [
       "<Figure size 432x288 with 1 Axes>"
      ]
     },
     "metadata": {
      "needs_background": "light"
     },
     "output_type": "display_data"
    }
   ],
   "source": [
    "import numpy as np\n",
    "#obraz a * a\n",
    "# r = a * sqrt(2) / 2\n",
    "# 1 emiter, n - detektorow\n",
    "# screen (rozmiescic emiter i detektory i tam wgl)\n",
    "# \n",
    "obraz = wczytajObraz(\"tomograf-zdjecia/Kolo.jpg\")\n",
    "print('Obraz.shape = ',obraz.shape)\n",
    "if(obraz.shape[0]!=obraz.shape[1]):\n",
    "    roznica = obraz.shape[0] - obraz.shape[1]\n",
    "    m = np.zeros((roznica,obraz.shape[0],3))\n",
    "    print('m.shape=',m.shape)\n",
    "    #print('m.t=',m.T)\n",
    "    if(roznica > 0):\n",
    "        np.concatenate((obraz,m.T),axis=1)\n",
    "        print('nic')\n",
    "        \n",
    "        \n",
    "print('nowy obraz.shape=',obraz.shape)\n",
    "r = obraz.shape[0] / np.sqrt(2)\n",
    "alfa = 30\n",
    "print('r=',r)\n",
    "emiter = np.array([r*np.cos(alfa),r*np.sin(alfa)])\n",
    "print('emiter=',emiter)\n",
    "liczbaDetektorow = 3\n",
    "rozpietosc = 180\n",
    "detektory = np.array([[0 for i in range(2)] for j in range(liczbaDetektorow)])\n",
    "for i in range(liczbaDetektorow):\n",
    "    detektory[i,0] = r * np.cos(alfa + np.pi-rozpietosc/2 + i*rozpietosc/(liczbaDetektorow-1))\n",
    "    detektory[i,1] = r * np.sin(alfa + np.pi-rozpietosc/2 + i*rozpietosc/(liczbaDetektorow-1))\n",
    "print(detektory)\n",
    "for i in range(liczbaDetektorow):\n",
    "    obraz[detektory[i,0]:detektory[i,0]+5,detektory[i,1]:detektory[i,1]+5]=[255,0,0]\n",
    "io.imshow(obraz)"
   ]
  },
  {
   "cell_type": "code",
   "execution_count": 78,
   "metadata": {},
   "outputs": [
    {
     "name": "stdout",
     "output_type": "stream",
     "text": [
      "shape= (2, 2, 3)\n",
      "[[[0 0 0]\n",
      "  [1 1 1]]\n",
      "\n",
      " [[0 0 0]\n",
      "  [0 0 0]]]\n",
      "shape= (2, 3)\n",
      "[[0 0 0]\n",
      " [1 1 1]]\n",
      "wynik\n"
     ]
    },
    {
     "ename": "ValueError",
     "evalue": "all the input arrays must have same number of dimensions",
     "output_type": "error",
     "traceback": [
      "\u001b[0;31m---------------------------------------------------------------------------\u001b[0m",
      "\u001b[0;31mValueError\u001b[0m                                Traceback (most recent call last)",
      "\u001b[0;32m<ipython-input-78-5fa072492947>\u001b[0m in \u001b[0;36m<module>\u001b[0;34m\u001b[0m\n\u001b[1;32m      6\u001b[0m \u001b[0mprint\u001b[0m\u001b[0;34m(\u001b[0m\u001b[0mb\u001b[0m\u001b[0;34m)\u001b[0m\u001b[0;34m\u001b[0m\u001b[0;34m\u001b[0m\u001b[0m\n\u001b[1;32m      7\u001b[0m \u001b[0mprint\u001b[0m\u001b[0;34m(\u001b[0m\u001b[0;34m'wynik'\u001b[0m\u001b[0;34m)\u001b[0m\u001b[0;34m\u001b[0m\u001b[0;34m\u001b[0m\u001b[0m\n\u001b[0;32m----> 8\u001b[0;31m \u001b[0mprint\u001b[0m\u001b[0;34m(\u001b[0m\u001b[0mnp\u001b[0m\u001b[0;34m.\u001b[0m\u001b[0mconcatenate\u001b[0m\u001b[0;34m(\u001b[0m\u001b[0;34m(\u001b[0m\u001b[0ma\u001b[0m\u001b[0;34m,\u001b[0m\u001b[0mb\u001b[0m\u001b[0;34m.\u001b[0m\u001b[0mT\u001b[0m\u001b[0;34m)\u001b[0m\u001b[0;34m,\u001b[0m\u001b[0maxis\u001b[0m\u001b[0;34m=\u001b[0m\u001b[0;36m1\u001b[0m\u001b[0;34m)\u001b[0m\u001b[0;34m)\u001b[0m\u001b[0;34m\u001b[0m\u001b[0;34m\u001b[0m\u001b[0m\n\u001b[0m",
      "\u001b[0;31mValueError\u001b[0m: all the input arrays must have same number of dimensions"
     ]
    }
   ],
   "source": [
    "a = np.array([[[0,0,0],[1,1,1]],[[0,0,0],[0,0,0]]])\n",
    "print('shape=',a.shape)\n",
    "print(a)\n",
    "b = np.array([[0,0,0],[1,1,1]])\n",
    "print('shape=',b.shape)\n",
    "print(b)\n",
    "print('wynik')\n",
    "print(np.concatenate((a,b.T),axis=1))"
   ]
  },
  {
   "cell_type": "code",
   "execution_count": 62,
   "metadata": {},
   "outputs": [
    {
     "name": "stdout",
     "output_type": "stream",
     "text": [
      "a.shape= (2, 2)\n",
      "b.shape= (1, 2)\n",
      "[[1 2 5]\n",
      " [3 4 6]]\n"
     ]
    }
   ],
   "source": [
    "a = np.array([[1,2],[3,4]])\n",
    "b = np.array([[5,6]])\n",
    "print('a.shape=',a.shape)\n",
    "print('b.shape=',b.shape)\n",
    "print(np.concatenate((a,b.T),axis=1))"
   ]
  }
 ],
 "metadata": {
  "kernelspec": {
   "display_name": "Python 3",
   "language": "python",
   "name": "python3"
  },
  "language_info": {
   "codemirror_mode": {
    "name": "ipython",
    "version": 3
   },
   "file_extension": ".py",
   "mimetype": "text/x-python",
   "name": "python",
   "nbconvert_exporter": "python",
   "pygments_lexer": "ipython3",
   "version": "3.6.8"
  }
 },
 "nbformat": 4,
 "nbformat_minor": 2
}
